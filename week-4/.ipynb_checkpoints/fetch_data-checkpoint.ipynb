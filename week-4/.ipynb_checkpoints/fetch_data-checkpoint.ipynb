{
 "cells": [
  {
   "cell_type": "code",
   "execution_count": 25,
   "metadata": {},
   "outputs": [],
   "source": [
    "import textract\n",
    "\n",
    "def clean_text(file_name):\n",
    "    '''\n",
    "    Open a pdf file, extract the text and return it.\n",
    "    \n",
    "    Input:\n",
    "       file_name, string\n",
    "    Output:\n",
    "       string of text\n",
    "          \n",
    "    '''\n",
    "    text_raw = textract.process(file_name).decode('utf-8')\n",
    "    texts = text_raw.split('\\n\\n')\n",
    "    texts = [text.replace(\"\\n\", \"\") for text in texts]\n",
    "    texts = [text.replace(\"■\", \"\") for text in texts]\n",
    "    texts = [text for text in texts if len(text) != 0]\n",
    "    \n",
    "\n",
    "    return texts\n",
    "    "
   ]
  },
  {
   "cell_type": "code",
   "execution_count": 28,
   "metadata": {},
   "outputs": [],
   "source": [
    "mit = clean_text('mitigation.pdf')\n",
    "tran = clean_text('transparency.pdf')"
   ]
  },
  {
   "cell_type": "code",
   "execution_count": 27,
   "metadata": {},
   "outputs": [
    {
     "data": {
      "text/plain": [
       "265"
      ]
     },
     "execution_count": 27,
     "metadata": {},
     "output_type": "execute_result"
    }
   ],
   "source": [
    "len(mit)"
   ]
  },
  {
   "cell_type": "code",
   "execution_count": 29,
   "metadata": {},
   "outputs": [
    {
     "data": {
      "text/plain": [
       "504"
      ]
     },
     "execution_count": 29,
     "metadata": {},
     "output_type": "execute_result"
    }
   ],
   "source": [
    "len(tran)"
   ]
  },
  {
   "cell_type": "code",
   "execution_count": null,
   "metadata": {},
   "outputs": [],
   "source": []
  }
 ],
 "metadata": {
  "kernelspec": {
   "display_name": "Python 3",
   "language": "python",
   "name": "python3"
  },
  "language_info": {
   "codemirror_mode": {
    "name": "ipython",
    "version": 3
   },
   "file_extension": ".py",
   "mimetype": "text/x-python",
   "name": "python",
   "nbconvert_exporter": "python",
   "pygments_lexer": "ipython3",
   "version": "3.7.4"
  }
 },
 "nbformat": 4,
 "nbformat_minor": 2
}
