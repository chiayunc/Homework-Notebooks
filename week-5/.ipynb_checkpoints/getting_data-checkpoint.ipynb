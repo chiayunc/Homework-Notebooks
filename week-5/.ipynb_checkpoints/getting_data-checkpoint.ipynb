{
 "cells": [
  {
   "cell_type": "code",
   "execution_count": 1,
   "metadata": {},
   "outputs": [],
   "source": [
    "import textract\n",
    "import math\n",
    "import pandas as pd\n",
    "\n",
    "dec_map = {1:22, 2:18, 3:18,4:21, 5:22, 6:7, 7:41, 8:26, 9:22, 10:18, 11:17, \n",
    "           12:10, 13:14,14:10, 15:14, 16:13, 17:20, 18:27, 19:29, 20:25, \n",
    "           21:24, 22:26, 23:23, 24:19, 25:19}"
   ]
  },
  {
   "cell_type": "code",
   "execution_count": 2,
   "metadata": {},
   "outputs": [],
   "source": [
    "decs = []\n",
    "for year in dec_map:\n",
    "    for i in range(1, dec_map[year]+1):\n",
    "        fpath = 'decision/' + str(year)+'-'+ str(i)+'.pdf'\n",
    "        decs.append(fpath)"
   ]
  },
  {
   "cell_type": "code",
   "execution_count": null,
   "metadata": {},
   "outputs": [],
   "source": []
  }
 ],
 "metadata": {
  "kernelspec": {
   "display_name": "Python 3",
   "language": "python",
   "name": "python3"
  },
  "language_info": {
   "codemirror_mode": {
    "name": "ipython",
    "version": 3
   },
   "file_extension": ".py",
   "mimetype": "text/x-python",
   "name": "python",
   "nbconvert_exporter": "python",
   "pygments_lexer": "ipython3",
   "version": "3.7.4"
  }
 },
 "nbformat": 4,
 "nbformat_minor": 2
}
